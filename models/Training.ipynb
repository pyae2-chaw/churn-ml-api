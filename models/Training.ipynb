{
 "cells": [
  {
   "cell_type": "code",
   "execution_count": 17,
   "id": "1c217e0e",
   "metadata": {},
   "outputs": [],
   "source": [
    "# Step 1: Import Libraries\n",
    "import pandas as pd\n",
    "from sklearn.model_selection import train_test_split\n",
    "from sklearn.preprocessing import StandardScaler\n",
    "from sklearn.linear_model import LogisticRegression\n",
    "from sklearn.ensemble import RandomForestClassifier\n",
    "from xgboost import XGBClassifier\n",
    "from lightgbm import LGBMClassifier\n",
    "from sklearn.metrics import classification_report, confusion_matrix, roc_auc_score\n",
    "from sklearn.preprocessing import LabelEncoder\n",
    "import joblib"
   ]
  },
  {
   "cell_type": "code",
   "execution_count": 18,
   "id": "04bc3996",
   "metadata": {},
   "outputs": [],
   "source": [
    "# Step 2: Load Dataset\n",
    "df = pd.read_csv('/Users/pyaekyitharchaw/Documents/CSCT Project/Data/botswana_bank_customer_churn.csv')  # Replace with your file\n",
    "\n",
    "df['Income Band'] = pd.qcut(df['Income'], q=5, labels=['Very Low', 'Low', 'Medium', 'High', 'Very High'])\n",
    "df['Balance Band'] = pd.qcut(df['Balance'], q=5, labels=['Very Low', 'Low', 'Medium', 'High', 'Very High'])\n",
    "df['Outstanding Loans Band'] = pd.qcut(df['Outstanding Loans'], q=5, labels=['Very Low', 'Low', 'Medium', 'High', 'Very High'])\n",
    "\n",
    "le_income = LabelEncoder()\n",
    "df['Income Band Encoded'] = le_income.fit_transform(df['Income Band'])\n",
    "\n",
    "le_balance = LabelEncoder()\n",
    "df['Balance Band Encoded'] = le_balance.fit_transform(df['Balance Band'])\n",
    "\n",
    "le_outstanding_loans = LabelEncoder()\n",
    "df['Outstanding Loans Band Encoded'] = le_balance.fit_transform(df['Outstanding Loans Band'])\n",
    "\n",
    "\n",
    "# Step 3: Select Features and Target\n",
    "features = [\n",
    "    'Credit Score', 'Customer Tenure', 'Balance Band Encoded',\n",
    "    'NumOfProducts', 'Outstanding Loans Band Encoded', 'Income Band Encoded',\n",
    "    'Credit History Length', 'NumComplaints'\n",
    "]\n",
    "target = 'Churn Flag' \n",
    "\n",
    "X = df[features]\n",
    "y = df[target]"
   ]
  },
  {
   "cell_type": "code",
   "execution_count": 19,
   "id": "04a894bd",
   "metadata": {},
   "outputs": [
    {
     "name": "stdout",
     "output_type": "stream",
     "text": [
      "<class 'pandas.core.frame.DataFrame'>\n",
      "RangeIndex: 115640 entries, 0 to 115639\n",
      "Data columns (total 31 columns):\n",
      " #   Column                           Non-Null Count   Dtype   \n",
      "---  ------                           --------------   -----   \n",
      " 0   RowNumber                        115640 non-null  int64   \n",
      " 1   CustomerId                       115640 non-null  object  \n",
      " 2   Surname                          115640 non-null  object  \n",
      " 3   First Name                       115640 non-null  object  \n",
      " 4   Date of Birth                    115640 non-null  object  \n",
      " 5   Gender                           115640 non-null  object  \n",
      " 6   Marital Status                   115640 non-null  object  \n",
      " 7   Number of Dependents             115640 non-null  int64   \n",
      " 8   Occupation                       115640 non-null  object  \n",
      " 9   Income                           115640 non-null  float64 \n",
      " 10  Education Level                  115640 non-null  object  \n",
      " 11  Address                          115640 non-null  object  \n",
      " 12  Contact Information              115640 non-null  object  \n",
      " 13  Customer Tenure                  115640 non-null  int64   \n",
      " 14  Customer Segment                 115640 non-null  object  \n",
      " 15  Preferred Communication Channel  115640 non-null  object  \n",
      " 16  Credit Score                     115640 non-null  int64   \n",
      " 17  Credit History Length            115640 non-null  int64   \n",
      " 18  Outstanding Loans                115640 non-null  float64 \n",
      " 19  Churn Flag                       115640 non-null  int64   \n",
      " 20  Churn Reason                     14094 non-null   object  \n",
      " 21  Churn Date                       14094 non-null   object  \n",
      " 22  Balance                          115640 non-null  float64 \n",
      " 23  NumOfProducts                    115640 non-null  int64   \n",
      " 24  NumComplaints                    115640 non-null  int64   \n",
      " 25  Income Band                      115640 non-null  category\n",
      " 26  Balance Band                     115640 non-null  category\n",
      " 27  Outstanding Loans Band           115640 non-null  category\n",
      " 28  Income Band Encoded              115640 non-null  int64   \n",
      " 29  Balance Band Encoded             115640 non-null  int64   \n",
      " 30  Outstanding Loans Band Encoded   115640 non-null  int64   \n",
      "dtypes: category(3), float64(3), int64(11), object(14)\n",
      "memory usage: 25.0+ MB\n"
     ]
    }
   ],
   "source": [
    "df.info()"
   ]
  },
  {
   "cell_type": "code",
   "execution_count": 20,
   "id": "33a2d30d",
   "metadata": {},
   "outputs": [],
   "source": [
    "# Step 4: Train-Test Split\n",
    "X_train, X_test, y_train, y_test = train_test_split(\n",
    "    X, y, test_size=0.2, stratify=y, random_state=42\n",
    ")"
   ]
  },
  {
   "cell_type": "code",
   "execution_count": 21,
   "id": "3f946049",
   "metadata": {},
   "outputs": [],
   "source": [
    "# Step 5: Scaling\n",
    "scaler = StandardScaler()\n",
    "X_train_scaled = scaler.fit_transform(X_train)\n",
    "X_test_scaled = scaler.transform(X_test)"
   ]
  },
  {
   "cell_type": "code",
   "execution_count": 22,
   "id": "1d72e917",
   "metadata": {},
   "outputs": [
    {
     "name": "stderr",
     "output_type": "stream",
     "text": [
      "/Users/pyaekyitharchaw/anaconda3/lib/python3.11/site-packages/xgboost/training.py:183: UserWarning: [09:04:09] WARNING: /Users/runner/work/xgboost/xgboost/src/learner.cc:738: \n",
      "Parameters: { \"use_label_encoder\" } are not used.\n",
      "\n",
      "  bst.update(dtrain, iteration=i, fobj=obj)\n"
     ]
    },
    {
     "name": "stdout",
     "output_type": "stream",
     "text": [
      "XGBoost\n",
      "              precision    recall  f1-score   support\n",
      "\n",
      "           0       0.99      0.94      0.97     20309\n",
      "           1       0.70      0.96      0.81      2819\n",
      "\n",
      "    accuracy                           0.95     23128\n",
      "   macro avg       0.85      0.95      0.89     23128\n",
      "weighted avg       0.96      0.95      0.95     23128\n",
      "\n",
      "[[19165  1144]\n",
      " [  115  2704]]\n",
      "ROC AUC: 0.9886653910806315\n",
      "Logistic Regression\n",
      "              precision    recall  f1-score   support\n",
      "\n",
      "           0       0.98      0.84      0.90     20309\n",
      "           1       0.43      0.88      0.58      2819\n",
      "\n",
      "    accuracy                           0.84     23128\n",
      "   macro avg       0.71      0.86      0.74     23128\n",
      "weighted avg       0.91      0.84      0.86     23128\n",
      "\n",
      "[[17032  3277]\n",
      " [  325  2494]]\n",
      "ROC AUC: 0.9344818894305051\n",
      "\n",
      "Random Forest\n",
      "              precision    recall  f1-score   support\n",
      "\n",
      "           0       0.97      0.98      0.98     20309\n",
      "           1       0.85      0.79      0.82      2819\n",
      "\n",
      "    accuracy                           0.96     23128\n",
      "   macro avg       0.91      0.88      0.90     23128\n",
      "weighted avg       0.96      0.96      0.96     23128\n",
      "\n",
      "[[19903   406]\n",
      " [  597  2222]]\n",
      "ROC AUC: 0.9881247199724876\n",
      "[LightGBM] [Warning] Found whitespace in feature_names, replace with underlines\n",
      "[LightGBM] [Info] Number of positive: 11275, number of negative: 81237\n",
      "[LightGBM] [Info] Auto-choosing row-wise multi-threading, the overhead of testing was 0.000949 seconds.\n",
      "You can set `force_row_wise=true` to remove the overhead.\n",
      "And if memory is not enough, you can set `force_col_wise=true`.\n",
      "[LightGBM] [Info] Total Bins 347\n",
      "[LightGBM] [Info] Number of data points in the train set: 92512, number of used features: 8\n",
      "[LightGBM] [Info] [binary:BoostFromScore]: pavg=0.500000 -> initscore=-0.000000\n",
      "[LightGBM] [Info] Start training from score -0.000000\n",
      "\n",
      "LGBM\n",
      "              precision    recall  f1-score   support\n",
      "\n",
      "           0       1.00      0.94      0.97     20309\n",
      "           1       0.69      0.98      0.81      2819\n",
      "\n",
      "    accuracy                           0.94     23128\n",
      "   macro avg       0.84      0.96      0.89     23128\n",
      "weighted avg       0.96      0.94      0.95     23128\n",
      "\n",
      "[[19051  1258]\n",
      " [   56  2763]]\n",
      "ROC AUC: 0.9898770714699817\n"
     ]
    }
   ],
   "source": [
    "# Step 6: Train Models and Evaluation\n",
    "\n",
    "# XGB\n",
    "xgb_model = XGBClassifier(scale_pos_weight=10, use_label_encoder=False, eval_metric='logloss', random_state=42)\n",
    "xgb_model.fit(X_train, y_train)\n",
    "xgb_preds = xgb_model.predict(X_test)\n",
    "print(\"XGBoost\")\n",
    "print(classification_report(y_test, xgb_preds))\n",
    "print(confusion_matrix(y_test, xgb_preds))\n",
    "print(\"ROC AUC:\", roc_auc_score(y_test, xgb_model.predict_proba(X_test)[:,1]))\n",
    "\n",
    "# Logistic Regression\n",
    "lr_model = LogisticRegression(class_weight='balanced', max_iter=1000)\n",
    "lr_model.fit(X_train_scaled, y_train)\n",
    "lr_preds = lr_model.predict(X_test_scaled)\n",
    "print(\"\\nLogistic Regression\")\n",
    "print(classification_report(y_test, lr_preds))\n",
    "print(confusion_matrix(y_test, lr_preds))\n",
    "print(\"ROC AUC:\", roc_auc_score(y_test, lr_model.predict_proba(X_test_scaled)[:,1]))\n",
    "\n",
    "# Random Forest\n",
    "rf_model = RandomForestClassifier(n_estimators=100, class_weight='balanced', random_state=42)\n",
    "rf_model.fit(X_train, y_train)\n",
    "rf_preds = rf_model.predict(X_test)\n",
    "print(\"\\nRandom Forest\")\n",
    "print(classification_report(y_test, rf_preds))\n",
    "print(confusion_matrix(y_test, rf_preds))\n",
    "print(\"ROC AUC:\", roc_auc_score(y_test, rf_model.predict_proba(X_test)[:,1]))\n",
    "\n",
    "# LGBM\n",
    "lgbm_model = LGBMClassifier(max_depth=5, num_leaves=20, class_weight='balanced', boosting_type='gbdt', objective='binary', random_state=42)\n",
    "lgbm_model.fit(X_train, y_train)\n",
    "lgbm_preds = lgbm_model.predict(X_test)\n",
    "print(\"\\nLGBM\")\n",
    "print(classification_report(y_test, lgbm_preds))\n",
    "print(confusion_matrix(y_test, lgbm_preds))\n",
    "print(\"ROC AUC:\", roc_auc_score(y_test, lgbm_model.predict_proba(X_test)[:,1]))\n",
    "\n"
   ]
  },
  {
   "cell_type": "code",
   "execution_count": 23,
   "id": "2649516b",
   "metadata": {},
   "outputs": [
    {
     "name": "stdout",
     "output_type": "stream",
     "text": [
      "Model and scaler saved successfully!\n"
     ]
    }
   ],
   "source": [
    "# Step 7: Export Model and Scaler\n",
    "joblib.dump(xgb_model, 'xgb_model.pkl')\n",
    "joblib.dump(lgbm_model, 'lgbm_model.pkl')\n",
    "joblib.dump(scaler, 'scaler.pkl')\n",
    "print(\"Model and scaler saved successfully!\")"
   ]
  },
  {
   "cell_type": "code",
   "execution_count": 24,
   "id": "9299c95c",
   "metadata": {},
   "outputs": [
    {
     "name": "stdout",
     "output_type": "stream",
     "text": [
      "✅ Saved income_bins, balance_bins, le_income, and le_balance.\n"
     ]
    }
   ],
   "source": [
    "# Get and save quantile bins\n",
    "income_bins = pd.qcut(df['Income'], q=5, retbins=True, duplicates='drop')[1]\n",
    "balance_bins = pd.qcut(df['Balance'], q=5, retbins=True, duplicates='drop')[1]\n",
    "\n",
    "joblib.dump(income_bins, 'income_bins.pkl')\n",
    "joblib.dump(balance_bins, 'balance_bins.pkl')\n",
    "\n",
    "# Save fitted label encoders\n",
    "joblib.dump(le_income, 'le_income.pkl')\n",
    "joblib.dump(le_balance, 'le_balance.pkl')\n",
    "\n",
    "print(\"✅ Saved income_bins, balance_bins, le_income, and le_balance.\")\n"
   ]
  },
  {
   "cell_type": "code",
   "execution_count": null,
   "id": "30d7047f",
   "metadata": {},
   "outputs": [],
   "source": []
  }
 ],
 "metadata": {
  "kernelspec": {
   "display_name": "Python 3 (ipykernel)",
   "language": "python",
   "name": "python3"
  },
  "language_info": {
   "codemirror_mode": {
    "name": "ipython",
    "version": 3
   },
   "file_extension": ".py",
   "mimetype": "text/x-python",
   "name": "python",
   "nbconvert_exporter": "python",
   "pygments_lexer": "ipython3",
   "version": "3.11.5"
  }
 },
 "nbformat": 4,
 "nbformat_minor": 5
}
